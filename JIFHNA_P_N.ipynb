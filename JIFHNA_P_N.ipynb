{
 "cells": [
  {
   "cell_type": "code",
   "execution_count": null,
   "metadata": {
    "id": "Ot0aSjZKNRqM"
   },
   "outputs": [],
   "source": []
  },
  {
   "cell_type": "code",
   "execution_count": 3,
   "metadata": {
    "colab": {
     "base_uri": "https://localhost:8080/"
    },
    "id": "k870rE0XAiLl",
    "outputId": "2623b3e8-a1d0-4108-a096-c512d6b316e7"
   },
   "outputs": [
    {
     "name": "stdout",
     "output_type": "stream",
     "text": [
      "Enter the city name : Ernakulam\n"
     ]
    }
   ],
   "source": [
    "import requests\n",
    "from datetime import datetime\n",
    "api_key = '50885544683cbe2955f4707090840092'\n",
    "location = input('Enter the city name : ')\n",
    "complete_api_link = \"https://api.openweathermap.org/data/2.5/weather?q=\"+location+\"&appid=\"+api_key\n",
    "api_link = requests.get(complete_api_link)\n",
    "api_data = api_link.json()\n",
    "\n"
   ]
  },
  {
   "cell_type": "code",
   "execution_count": 4,
   "metadata": {
    "colab": {
     "base_uri": "https://localhost:8080/"
    },
    "id": "XwxPBr_vEAW-",
    "outputId": "bfdebebe-23b5-4e6b-9dfc-ac3491931d93"
   },
   "outputs": [
    {
     "name": "stdout",
     "output_type": "stream",
     "text": [
      "----------------------------\n",
      "Weather Stats for - ERNAKULAM || 24 Jun 2021 | 02:56:40 PM\n",
      "----------------------------\n",
      "Current temperature is  : 31.99 deg C\n",
      "Current weather desc     : broken clouds\n",
      "Current Humidity         : 72 %\n",
      "Current wind speed       : 4.55 kmph\n"
     ]
    }
   ],
   "source": [
    "temp_city = ((api_data['main']['temp']) - 273.15)\n",
    "weather_desc = api_data['weather'][0]['description']\n",
    "hmdt = api_data['main']['humidity']\n",
    "wind_spd = api_data['wind']['speed']\n",
    "date_time = datetime.now().strftime(\"%d %b %Y | %I:%M:%S %p\")\n",
    "print(\"----------------------------\")\n",
    "print(\"Weather Stats for - {} || {}\".format(location.upper(), date_time))\n",
    "print(\"----------------------------\")\n",
    "print (\"Current temperature is  : {:.2f} deg C\".format(temp_city))\n",
    "print(\"Current weather desc     :\",weather_desc)\n",
    "print(\"Current Humidity         :\",hmdt, '%')\n",
    "print(\"Current wind speed       :\",wind_spd,'kmph')"
   ]
  }
 ],
 "metadata": {
  "colab": {
   "name": "aiswarya.ipynb",
   "provenance": []
  },
  "kernelspec": {
   "display_name": "Python 3",
   "language": "python",
   "name": "python3"
  },
  "language_info": {
   "codemirror_mode": {
    "name": "ipython",
    "version": 3
   },
   "file_extension": ".py",
   "mimetype": "text/x-python",
   "name": "python",
   "nbconvert_exporter": "python",
   "pygments_lexer": "ipython3",
   "version": "3.8.5"
  }
 },
 "nbformat": 4,
 "nbformat_minor": 1
}
